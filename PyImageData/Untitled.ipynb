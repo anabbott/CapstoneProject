{
 "cells": [
  {
   "cell_type": "code",
   "execution_count": 4,
   "metadata": {
    "collapsed": true
   },
   "outputs": [],
   "source": [
    "#Load Libraries\n",
    "import pandas as pd\n",
    "import fnmatch\n",
    "import glob\n",
    "import os\n",
    "from PIL import Image, ImageDraw"
   ]
  },
  {
   "cell_type": "code",
   "execution_count": 26,
   "metadata": {
    "collapsed": true
   },
   "outputs": [],
   "source": [
    "im=Image.open(\"/Users/dennismurray/CapstoneProject/PyImageData/DataSample/-1/-18zQvsnzHenztGCEjW_Sw.jpg\")"
   ]
  },
  {
   "cell_type": "code",
   "execution_count": 38,
   "metadata": {},
   "outputs": [],
   "source": [
    "draw = ImageDraw.Draw(im)\n",
    "#draw.polygon([(8577.668768, 3592.640903), (8990.386962, 4005.359097)], outline=\"green\")\n",
    "draw.polygon([(1000, 1000), (10000, 10000)], outline=\"green\", fill=\"green\")\n",
    "\n"
   ]
  },
  {
   "cell_type": "code",
   "execution_count": 39,
   "metadata": {
    "collapsed": true
   },
   "outputs": [],
   "source": [
    "im.show()"
   ]
  },
  {
   "cell_type": "code",
   "execution_count": 22,
   "metadata": {},
   "outputs": [],
   "source": [
    "back = im\n",
    "poly = Image.new('RGBA', (13312,6656))\n",
    "pdraw = ImageDraw.Draw(poly)\n",
    "pdraw.polygon([(3000, 3000), (9500, 4500)], outline=\"red\", fill=\"red\")\n",
    "back.paste(poly,mask=poly)\n",
    "back.show()"
   ]
  },
  {
   "cell_type": "code",
   "execution_count": 25,
   "metadata": {},
   "outputs": [],
   "source": [
    "from PIL import Image, ImageDraw\n",
    "back = Image.new('RGBA', (512,512), (255,0,0,0))\n",
    "poly = Image.new('RGBA', (512,512))\n",
    "pdraw = ImageDraw.Draw(poly)\n",
    "pdraw.polygon([(128,128),(384,384),(128,384),(384,128)],\n",
    "              fill=(255,255,255,127),outline=(255,255,255,255))\n",
    "back.paste(poly,mask=poly)\n",
    "back.show()"
   ]
  },
  {
   "cell_type": "code",
   "execution_count": null,
   "metadata": {
    "collapsed": true
   },
   "outputs": [],
   "source": []
  },
  {
   "cell_type": "code",
   "execution_count": null,
   "metadata": {
    "collapsed": true
   },
   "outputs": [],
   "source": []
  },
  {
   "cell_type": "code",
   "execution_count": null,
   "metadata": {
    "collapsed": true
   },
   "outputs": [],
   "source": []
  },
  {
   "cell_type": "code",
   "execution_count": null,
   "metadata": {
    "collapsed": true
   },
   "outputs": [],
   "source": []
  }
 ],
 "metadata": {
  "kernelspec": {
   "display_name": "Python 3",
   "language": "python",
   "name": "python3"
  },
  "language_info": {
   "codemirror_mode": {
    "name": "ipython",
    "version": 3
   },
   "file_extension": ".py",
   "mimetype": "text/x-python",
   "name": "python",
   "nbconvert_exporter": "python",
   "pygments_lexer": "ipython3",
   "version": "3.6.1"
  }
 },
 "nbformat": 4,
 "nbformat_minor": 2
}
