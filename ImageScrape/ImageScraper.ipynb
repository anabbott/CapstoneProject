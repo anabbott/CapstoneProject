{
 "cells": [
  {
   "cell_type": "code",
   "execution_count": 62,
   "metadata": {
    "collapsed": false
   },
   "outputs": [
    {
     "ename": "ImportError",
     "evalue": "No module named 'imposm'",
     "output_type": "error",
     "traceback": [
      "\u001b[0;31m---------------------------------------------------------------------------\u001b[0m",
      "\u001b[0;31mImportError\u001b[0m                               Traceback (most recent call last)",
      "\u001b[0;32m<ipython-input-62-729031b5204f>\u001b[0m in \u001b[0;36m<module>\u001b[0;34m()\u001b[0m\n\u001b[1;32m      4\u001b[0m \u001b[0;32mimport\u001b[0m \u001b[0mpandas\u001b[0m \u001b[0;32mas\u001b[0m \u001b[0mpd\u001b[0m\u001b[0;34m\u001b[0m\u001b[0m\n\u001b[1;32m      5\u001b[0m \u001b[0;32mimport\u001b[0m \u001b[0mos\u001b[0m\u001b[0;34m\u001b[0m\u001b[0m\n\u001b[0;32m----> 6\u001b[0;31m \u001b[0;32mfrom\u001b[0m \u001b[0mimposm\u001b[0m\u001b[0;34m.\u001b[0m\u001b[0mparser\u001b[0m \u001b[0;32mimport\u001b[0m \u001b[0mOSMParser\u001b[0m\u001b[0;34m\u001b[0m\u001b[0m\n\u001b[0m\u001b[1;32m      7\u001b[0m \u001b[0;34m\u001b[0m\u001b[0m\n\u001b[1;32m      8\u001b[0m \u001b[0;34m\u001b[0m\u001b[0m\n",
      "\u001b[0;31mImportError\u001b[0m: No module named 'imposm'"
     ]
    }
   ],
   "source": [
    "import urllib\n",
    "import PIL\n",
    "import random\n",
    "import pandas as pd\n",
    "import os\n",
    "from imposm.parser import OSMParser\n",
    "\n",
    "\n",
    "\n",
    "#Parameters\n",
    "key=''\n",
    "fieldofview = 120\n",
    "pitch=-10\n",
    "n_images=500\n",
    "\n",
    "#Boundaries of the neighborhood we want to review\n",
    "#For pilot project we can look at the \"Fair Park/South Dallas\" Neighborhoods near the Cotton Bowl\n",
    "#Rough boundaries of I-30, I-45 and Dolphin Rd/Hatcher St\n",
    "#32.7914996,-96.7383008 NE Corner\n",
    "#32.747024,-96.77049 SW Corner\n",
    "\n",
    "min_lat=32.747024\n",
    "max_lat=32.7914996\n",
    "\n",
    "min_long=-96.77049\n",
    "max_long=-96.7383008\n",
    "\n",
    "#https://maps.googleapis.com/maps/api/streetview?size=400x400&location=40.720032,-73.988354&fov=90&heading=235&pitch=10&key="
   ]
  },
  {
   "cell_type": "code",
   "execution_count": 47,
   "metadata": {
    "collapsed": false
   },
   "outputs": [],
   "source": [
    "#Make a list of random Lat/Long that will be within the block\n",
    "\n",
    "Locations=[]\n",
    "\n",
    "n=1\n",
    "while n <= n_images:\n",
    "    thislat=random.uniform(min_lat, max_lat)\n",
    "    thislong=random.uniform(min_long, max_long)\n",
    "    Locations.append((n, thislat, thislong))\n",
    "    n+=1\n",
    "    \n",
    "Locations=pd.DataFrame(Locations, columns=('n', 'thislat', 'thislong'))\n",
    "\n"
   ]
  },
  {
   "cell_type": "code",
   "execution_count": 48,
   "metadata": {
    "collapsed": false
   },
   "outputs": [
    {
     "data": {
      "text/html": [
       "<div>\n",
       "<table border=\"1\" class=\"dataframe\">\n",
       "  <thead>\n",
       "    <tr style=\"text-align: right;\">\n",
       "      <th></th>\n",
       "      <th>n</th>\n",
       "      <th>thislat</th>\n",
       "      <th>thislong</th>\n",
       "    </tr>\n",
       "  </thead>\n",
       "  <tbody>\n",
       "    <tr>\n",
       "      <th>0</th>\n",
       "      <td>1</td>\n",
       "      <td>32.775472</td>\n",
       "      <td>-96.769567</td>\n",
       "    </tr>\n",
       "    <tr>\n",
       "      <th>1</th>\n",
       "      <td>2</td>\n",
       "      <td>32.766547</td>\n",
       "      <td>-96.746895</td>\n",
       "    </tr>\n",
       "    <tr>\n",
       "      <th>2</th>\n",
       "      <td>3</td>\n",
       "      <td>32.775922</td>\n",
       "      <td>-96.738845</td>\n",
       "    </tr>\n",
       "    <tr>\n",
       "      <th>3</th>\n",
       "      <td>4</td>\n",
       "      <td>32.780576</td>\n",
       "      <td>-96.740059</td>\n",
       "    </tr>\n",
       "    <tr>\n",
       "      <th>4</th>\n",
       "      <td>5</td>\n",
       "      <td>32.789642</td>\n",
       "      <td>-96.741399</td>\n",
       "    </tr>\n",
       "  </tbody>\n",
       "</table>\n",
       "</div>"
      ],
      "text/plain": [
       "   n    thislat   thislong\n",
       "0  1  32.775472 -96.769567\n",
       "1  2  32.766547 -96.746895\n",
       "2  3  32.775922 -96.738845\n",
       "3  4  32.780576 -96.740059\n",
       "4  5  32.789642 -96.741399"
      ]
     },
     "execution_count": 48,
     "metadata": {},
     "output_type": "execute_result"
    }
   ],
   "source": [
    "Locations.head()"
   ]
  },
  {
   "cell_type": "code",
   "execution_count": 52,
   "metadata": {
    "collapsed": false
   },
   "outputs": [
    {
     "data": {
      "text/plain": [
       "('1.jpg', <http.client.HTTPMessage at 0x116528c50>)"
      ]
     },
     "execution_count": 52,
     "metadata": {},
     "output_type": "execute_result"
    }
   ],
   "source": [
    "#Work through the list, calling the Google Maps URL for each and storing it on drive in directory /images\n",
    "\n",
    "url=\"https://maps.googleapis.com/maps/api/streetview?size=400x400&location=\"+str(Locations['thislat'][0])+\",\"+str(Locations['thislong'][0])+\"&fov=\"+str(fieldofview)+\"&heading=\"+str(90)+\"&pitch=\"+str(pitch)+\"&key=\"+str(key)\n",
    "\n",
    "#urllib.request.urlretrieve(url)\n",
    "\n",
    "fullfilename = os.path.join('', str(1)+'.jpg')\n",
    "urllib.request.urlretrieve(url, fullfilename)\n",
    "\n"
   ]
  },
  {
   "cell_type": "code",
   "execution_count": 63,
   "metadata": {
    "collapsed": false
   },
   "outputs": [
    {
     "ename": "NameError",
     "evalue": "name 'OSMParser' is not defined",
     "output_type": "error",
     "traceback": [
      "\u001b[0;31m---------------------------------------------------------------------------\u001b[0m",
      "\u001b[0;31mNameError\u001b[0m                                 Traceback (most recent call last)",
      "\u001b[0;32m<ipython-input-63-e9fbeb118e48>\u001b[0m in \u001b[0;36m<module>\u001b[0;34m()\u001b[0m\n\u001b[1;32m     25\u001b[0m \u001b[0;31m# instantiate counter and parser and start parsing\u001b[0m\u001b[0;34m\u001b[0m\u001b[0;34m\u001b[0m\u001b[0m\n\u001b[1;32m     26\u001b[0m \u001b[0mcounter\u001b[0m \u001b[0;34m=\u001b[0m \u001b[0mHighwayCounter\u001b[0m\u001b[0;34m(\u001b[0m\u001b[0;34m)\u001b[0m\u001b[0;34m\u001b[0m\u001b[0m\n\u001b[0;32m---> 27\u001b[0;31m \u001b[0mp\u001b[0m \u001b[0;34m=\u001b[0m \u001b[0mOSMParser\u001b[0m\u001b[0;34m(\u001b[0m\u001b[0mconcurrency\u001b[0m\u001b[0;34m=\u001b[0m\u001b[0;36m4\u001b[0m\u001b[0;34m,\u001b[0m \u001b[0mways_callback\u001b[0m\u001b[0;34m=\u001b[0m\u001b[0mcounter\u001b[0m\u001b[0;34m.\u001b[0m\u001b[0mways\u001b[0m\u001b[0;34m)\u001b[0m\u001b[0;34m\u001b[0m\u001b[0m\n\u001b[0m\u001b[1;32m     28\u001b[0m \u001b[0mp\u001b[0m\u001b[0;34m.\u001b[0m\u001b[0mparse\u001b[0m\u001b[0;34m(\u001b[0m\u001b[0;34m'map.osm'\u001b[0m\u001b[0;34m)\u001b[0m\u001b[0;34m\u001b[0m\u001b[0m\n\u001b[1;32m     29\u001b[0m \u001b[0;34m\u001b[0m\u001b[0m\n",
      "\u001b[0;31mNameError\u001b[0m: name 'OSMParser' is not defined"
     ]
    }
   ],
   "source": [
    "#Try something different\n",
    "#This time let's use a Open Street Map from MapZen file to know where the streets are that we want to map\n",
    "#It's an JSON file\n",
    "#There's a geoJSON and geojson_osm libs to decode this file\n",
    "\n",
    "#https://michelleful.github.io/code-blog/2015/04/27/osm-data/"
   ]
  },
  {
   "cell_type": "code",
   "execution_count": 65,
   "metadata": {
    "collapsed": false
   },
   "outputs": [],
   "source": [
    "import geopandas_osm.osm"
   ]
  }
 ],
 "metadata": {
  "kernelspec": {
   "display_name": "Python [conda root]",
   "language": "python",
   "name": "conda-root-py"
  },
  "language_info": {
   "codemirror_mode": {
    "name": "ipython",
    "version": 3
   },
   "file_extension": ".py",
   "mimetype": "text/x-python",
   "name": "python",
   "nbconvert_exporter": "python",
   "pygments_lexer": "ipython3",
   "version": "3.5.3"
  }
 },
 "nbformat": 4,
 "nbformat_minor": 2
}
